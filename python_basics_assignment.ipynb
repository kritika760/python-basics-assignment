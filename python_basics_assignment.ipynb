{
  "nbformat": 4,
  "nbformat_minor": 0,
  "metadata": {
    "colab": {
      "provenance": [],
      "authorship_tag": "ABX9TyPj191JU9DH0YdhOPGW6KgI",
      "include_colab_link": true
    },
    "kernelspec": {
      "name": "python3",
      "display_name": "Python 3"
    },
    "language_info": {
      "name": "python"
    }
  },
  "cells": [
    {
      "cell_type": "markdown",
      "metadata": {
        "id": "view-in-github",
        "colab_type": "text"
      },
      "source": [
        "<a href=\"https://colab.research.google.com/github/kritika760/python-basics-assignment/blob/main/python_basics_assignment.ipynb\" target=\"_parent\"><img src=\"https://colab.research.google.com/assets/colab-badge.svg\" alt=\"Open In Colab\"/></a>"
      ]
    },
    {
      "cell_type": "markdown",
      "source": [
        "                              # *python* basics\n",
        "                              ** theory question**"
      ],
      "metadata": {
        "id": "ufuiuUxTqHeT"
      }
    },
    {
      "cell_type": "markdown",
      "source": [
        "1. What is Python, and why is it popular ?\n",
        " - Python is a programming language that is easy to understand and write, making it a popular choice among developers and programmers.\n",
        "It is compatible with various programming paradigms, such as procedural, object-oriented, and functional programming.\n",
        "Python has a large and active community of developers, an extensive standard library, and third-party packages for various domains."
      ],
      "metadata": {
        "id": "7sNERTMEqMqP"
      }
    },
    {
      "cell_type": "markdown",
      "source": [
        "2. What is an interpreter in Python ?\n",
        " - In Python, an interpreter is a program that reads and executes Python code line by line.The Python interpreter reads  Python code (like print(\"Hello, world!\")), translates it into bytecode (an intermediate language), and then executes that bytecode."
      ],
      "metadata": {
        "id": "5nG9GXgOqYfk"
      }
    },
    {
      "cell_type": "markdown",
      "source": [
        " 3. What are pre-defined keywords in Python ?\n",
        "\n",
        "     -  Keywords are reserved words in Python that have predefined meanings and cannot be used as identifiers (variable names, function names, etc.). These keywords are essential for defining the structure and logic of Python code."
      ],
      "metadata": {
        "id": "prmZBOggqpCb"
      }
    },
    {
      "cell_type": "markdown",
      "source": [
        "4. Can keywords be used as variable names ?\n",
        " - No, keywords cannot be used directly as variable names in Python. Keywords are reserved words that have predefined meanings in the language, and attempting to use them as variable names will result in a syntax error. Python's interpreter relies on these keywords to understand the structure and logic of the code. If they were allowed to be used as variable names, it would create ambiguity and confusion."
      ],
      "metadata": {
        "id": "F31unVerrHS1"
      }
    },
    {
      "cell_type": "markdown",
      "source": [
        "5. What is mutability in Python ?\n",
        " - Mutability in Python refers to the ability of an object to be modified after it is created. If an object's value can be changed without creating a new object, it is considered mutable."
      ],
      "metadata": {
        "id": "uj33oHltsiMy"
      }
    },
    {
      "cell_type": "markdown",
      "source": [
        "6. Why are lists mutable, but tuples are immutable ?\n",
        " - Tuples and lists are the same in every way except two: tuples use parentheses instead of square brackets, and the items in tuples cannot be modified (but the items in lists can be modified). We often call lists mutable (meaning they can be changed) and tuples immutable (meaning they cannot be changed)."
      ],
      "metadata": {
        "id": "04KPKtrtssmx"
      }
    },
    {
      "cell_type": "markdown",
      "source": [
        "7. What is the difference between “==” and “is” operators in Python ?\n",
        " - The == and is operators in Python serve different comparison purposes. The == operator checks for equality of value between two objects, while the is operator checks for identity, meaning it verifies if two variables refer to the exact same object in memory."
      ],
      "metadata": {
        "id": "vtdGWw-6sx0d"
      }
    },
    {
      "cell_type": "markdown",
      "source": [
        "8.  What are logical operators in Python ?\n",
        "  - Logical operators in Python are used to combine or modify boolean values (True or False). There are three logical operators: and, or, and not. They are often used in conditional statements and expressions to control the flow of a program.\n",
        "\n",
        "    and: Returns True if both operands are True, otherwise it returns False.\n",
        "\n",
        "    x = 5\n",
        "\n",
        "    y = 10\n",
        "\n",
        "    print(x > 0 and y < 15) # Output: True\n",
        "\n",
        "    print(x > 5 and y < 15) # Output: False\n"
      ],
      "metadata": {
        "id": "qaXM-uSLs3Cj"
      }
    },
    {
      "cell_type": "markdown",
      "source": [
        " 9. What is type casting in Python ?\n",
        "  - Type casting in Python, also known as type conversion, refers to the process of changing the data type of a variable from one type to another. This is often necessary to perform operations that require specific data types or to ensure compatibility between different parts of a program.\n",
        "\n",
        "      Python supports two types of type casting:\n",
        "\n",
        "     **Implicit type casting** (Coercion):\n",
        "This occurs automatically when Python converts data types during certain operations. For instance, when adding an integer and a float, Python implicitly converts the integer to a float before performing the addition.\n",
        "\n",
        "     **Explicit type casting:**\n",
        "This involves using built-in functions to explicitly convert a variable from one data type to another. These functions include int(), float(), str(), bool() etc."
      ],
      "metadata": {
        "id": "hdSaSfWVs91k"
      }
    },
    {
      "cell_type": "markdown",
      "source": [
        "10. What is the difference between implicit and explicit type casting ?\n",
        "\n",
        "  - Implicit Type Casting: The Python interpreter automatically converts one data type to another without any user involvement. It usually happens when performing operations involving different data types, converting the lower data type to the higher data type to prevent data loss.\n",
        "\n",
        "\n",
        "       a = 10\n",
        "       b = 2.5\n",
        "       c = a + b  # a is implicitly converted to float\n",
        "       print(c)    # Output: 12.5\n",
        "       print(type(c)) # Output: <class 'float'>\n",
        "\n",
        "Explicit Type Casting: Also known as type casting, it is when the programmer manually converts a variable's data type using built-in functions. This is useful when you need to convert a variable to a specific data type for a particular operation or purpose.\n",
        "Python\n",
        "\n",
        "       a = \"10\"\n",
        "       b = int(a)  # a is explicitly converted to integer\n",
        "       print(b)    # Output: 10\n",
        "       print(type(b)) # Output: <class 'int'>\n",
        "\n",
        "       c = 3.14\n",
        "       d = str(c) # c is explicitly converted to string\n",
        "       print(d) # Output: 3.14\n",
        "       print(type(d)) # Output: <class 'str'>"
      ],
      "metadata": {
        "id": "ksvK_r6NuzOt"
      }
    },
    {
      "cell_type": "markdown",
      "source": [
        "11. What is the purpose of conditional statements in Python ?\n",
        "   - Conditional statements in Python serve to control the flow of execution in a program, allowing different blocks of code to be executed based on whether certain conditions are met. They enable decision-making within the code, making programs more dynamic and responsive to varying inputs and situations.\n",
        "    \n",
        "      The primary conditional statements in Python are if, elif (else if), and else. These statements work together to create branching logic, where different code paths are taken depending on the truthiness of specified conditions.\n",
        "      "
      ],
      "metadata": {
        "id": "ZR6REg8Cu84n"
      }
    },
    {
      "cell_type": "markdown",
      "source": [
        " 12. How does the elif statement work ?\n",
        "  - The elif statement in Python is used to check multiple conditions sequentially, similar to an \"else if\" in other programming languages. It allows you to test additional conditions if the preceding if or elif conditions are false. If an elif condition is true, its corresponding block of code is executed, and the rest of the if-elif-else structure is skipped. If none of the if or elif conditions are true, the optional else block, if present, is executed.\n",
        "\n",
        "    age = 25\n",
        "\n",
        "  if age < 13:\n",
        "\n",
        "    print(\"Child\")\n",
        "   elif age >= 13 and age < 20:\n",
        "\n",
        "    print(\"Teenager\")\n",
        "\n",
        "  elif age >= 20 and age < 65:\n",
        "\n",
        "    print(\"Adult\")\n",
        "\n",
        "  else:\n",
        "\n",
        "    print(\"Senior\")\n"
      ],
      "metadata": {
        "id": "ftPlWYqcvExC"
      }
    },
    {
      "cell_type": "markdown",
      "source": [
        "13. What is the difference between for and while loops ?\n",
        "\n",
        "  - The key difference between for and while loops in Python lies in their intended use and control flow.\n",
        "For loop: Designed for iterating over a sequence (like a list, tuple, string, or range) a predetermined number of times. It automatically handles the iteration process, moving to the next item in the sequence with each loop cycle.\n",
        "\n",
        " for i in range(5):\n",
        "\n",
        "        print(i)\n",
        "         # Output: 0 1 2 3 4\n",
        "\n",
        "         While loop: Repeats a block of code as long as a specified condition remains true. It offers more flexibility as the number of iterations isn't fixed beforehand, but it requires manual management of the loop condition to avoid infinite loops.\n",
        "\n",
        "         count = 0\n",
        "     while count < 5:\n",
        "        print(count)\n",
        "         # Output: 0 1 2 3 4\n",
        "        count += 1\n"
      ],
      "metadata": {
        "id": "xEosdA4rvLSQ"
      }
    },
    {
      "cell_type": "markdown",
      "source": [
        " 14 . Describe a scenario where a while loop is more suitable than a for loop.\n",
        "\n",
        "  - In programming, for loops are best used when you know the number of iterations ahead of time, whereas a while loop is best used when you don't know the number of iterations in advance."
      ],
      "metadata": {
        "id": "8h6yNLAnvSvU"
      }
    },
    {
      "cell_type": "markdown",
      "source": [
        "#      ** Practical** **Questions**"
      ],
      "metadata": {
        "id": "CYBDhO9bvUv6"
      }
    },
    {
      "cell_type": "markdown",
      "source": [
        " 1 . Write a Python program to print \"Hello, World!"
      ],
      "metadata": {
        "id": "AUtZXGwvx6aM"
      }
    },
    {
      "cell_type": "code",
      "source": [
        "print(\"Hello, World!\")"
      ],
      "metadata": {
        "colab": {
          "base_uri": "https://localhost:8080/"
        },
        "id": "btmSQ6WTyDi0",
        "outputId": "0913a1ae-1e45-4a6e-af97-c880af4d06e6"
      },
      "execution_count": 1,
      "outputs": [
        {
          "output_type": "stream",
          "name": "stdout",
          "text": [
            "Hello, World!\n"
          ]
        }
      ]
    },
    {
      "cell_type": "markdown",
      "source": [
        " 2.  Write a Python program that displays your name and age."
      ],
      "metadata": {
        "id": "xFHRuidUyKdK"
      }
    },
    {
      "cell_type": "code",
      "source": [
        "name = \"kritika yadav\"\n",
        "age = 36\n",
        "print(\"name:\", name)\n",
        "print(\"age:\", age)"
      ],
      "metadata": {
        "colab": {
          "base_uri": "https://localhost:8080/"
        },
        "id": "GnXva5_3yQcc",
        "outputId": "6e1d5bfd-a8fc-4e33-901f-59061609f5f5"
      },
      "execution_count": 2,
      "outputs": [
        {
          "output_type": "stream",
          "name": "stdout",
          "text": [
            "name: kritika yadav\n",
            "age: 36\n"
          ]
        }
      ]
    },
    {
      "cell_type": "markdown",
      "source": [
        " 3. Write code to print all the pre-defined keywords in Python using the  \n",
        "     keyword library."
      ],
      "metadata": {
        "id": "uoObVgPhyYJx"
      }
    },
    {
      "cell_type": "code",
      "source": [
        "help('keywords')"
      ],
      "metadata": {
        "colab": {
          "base_uri": "https://localhost:8080/"
        },
        "id": "CIktaAfeyhbX",
        "outputId": "8256a23b-753a-41d7-eb34-c816755209fb"
      },
      "execution_count": 3,
      "outputs": [
        {
          "output_type": "stream",
          "name": "stdout",
          "text": [
            "\n",
            "Here is a list of the Python keywords.  Enter any keyword to get more help.\n",
            "\n",
            "False               class               from                or\n",
            "None                continue            global              pass\n",
            "True                def                 if                  raise\n",
            "and                 del                 import              return\n",
            "as                  elif                in                  try\n",
            "assert              else                is                  while\n",
            "async               except              lambda              with\n",
            "await               finally             nonlocal            yield\n",
            "break               for                 not                 \n",
            "\n"
          ]
        }
      ]
    },
    {
      "cell_type": "markdown",
      "source": [
        " 4. Write a program that checks if a given word is a Python keyword."
      ],
      "metadata": {
        "id": "klGHNVqszJR_"
      }
    },
    {
      "cell_type": "code",
      "source": [
        "word1 = \"for\"\n",
        "word2 = \"hello\"\n",
        "\n",
        "print(f\"'{word1}' is a keyword: {is_keyword(word1)}\")\n",
        "print(f\"'{word2}' is a keyword: {is_keyword(word2)}\")\n"
      ],
      "metadata": {
        "colab": {
          "base_uri": "https://localhost:8080/",
          "height": 193
        },
        "id": "Uut-b50pzQJA",
        "outputId": "0168c33e-e750-4ac1-8ec7-c57a7c588ddf"
      },
      "execution_count": 8,
      "outputs": [
        {
          "output_type": "error",
          "ename": "NameError",
          "evalue": "name 'is_keyword' is not defined",
          "traceback": [
            "\u001b[0;31m---------------------------------------------------------------------------\u001b[0m",
            "\u001b[0;31mNameError\u001b[0m                                 Traceback (most recent call last)",
            "\u001b[0;32m<ipython-input-8-491228868d3f>\u001b[0m in \u001b[0;36m<cell line: 0>\u001b[0;34m()\u001b[0m\n\u001b[1;32m      2\u001b[0m \u001b[0mword2\u001b[0m \u001b[0;34m=\u001b[0m \u001b[0;34m\"hello\"\u001b[0m\u001b[0;34m\u001b[0m\u001b[0;34m\u001b[0m\u001b[0m\n\u001b[1;32m      3\u001b[0m \u001b[0;34m\u001b[0m\u001b[0m\n\u001b[0;32m----> 4\u001b[0;31m \u001b[0mprint\u001b[0m\u001b[0;34m(\u001b[0m\u001b[0;34mf\"'{word1}' is a keyword: {is_keyword(word1)}\"\u001b[0m\u001b[0;34m)\u001b[0m\u001b[0;34m\u001b[0m\u001b[0;34m\u001b[0m\u001b[0m\n\u001b[0m\u001b[1;32m      5\u001b[0m \u001b[0mprint\u001b[0m\u001b[0;34m(\u001b[0m\u001b[0;34mf\"'{word2}' is a keyword: {is_keyword(word2)}\"\u001b[0m\u001b[0;34m)\u001b[0m\u001b[0;34m\u001b[0m\u001b[0;34m\u001b[0m\u001b[0m\n",
            "\u001b[0;31mNameError\u001b[0m: name 'is_keyword' is not defined"
          ]
        }
      ]
    },
    {
      "cell_type": "markdown",
      "source": [
        " 5.  Create a list and tuple in Python, and demonstrate how attempting to   \n",
        "     change an element works differently for each."
      ],
      "metadata": {
        "id": "Li9gfZ680sd7"
      }
    },
    {
      "cell_type": "code",
      "source": [
        "my_list = [1, 2, 3]\n",
        "print(\"Original list:\", my_list)"
      ],
      "metadata": {
        "colab": {
          "base_uri": "https://localhost:8080/"
        },
        "id": "x1bnqHSj0xK3",
        "outputId": "7054a7ef-9730-4c49-d446-778eeea95f0a"
      },
      "execution_count": 9,
      "outputs": [
        {
          "output_type": "stream",
          "name": "stdout",
          "text": [
            "Original list: [1, 2, 3]\n"
          ]
        }
      ]
    },
    {
      "cell_type": "code",
      "source": [
        "my_list[1] = 4\n",
        "print(\"Modified list:\", my_list)\n"
      ],
      "metadata": {
        "colab": {
          "base_uri": "https://localhost:8080/"
        },
        "id": "_mz6NPuh02BO",
        "outputId": "6817ca30-e5c3-43bb-fa47-ed3ebfab4575"
      },
      "execution_count": 10,
      "outputs": [
        {
          "output_type": "stream",
          "name": "stdout",
          "text": [
            "Modified list: [1, 4, 3]\n"
          ]
        }
      ]
    },
    {
      "cell_type": "code",
      "source": [
        "my_tuple = (5, 6, 7)\n",
        "print(\"Original tuple:\", my_tuple)"
      ],
      "metadata": {
        "colab": {
          "base_uri": "https://localhost:8080/"
        },
        "id": "EZ84G3Pr07iv",
        "outputId": "4774906d-dd08-4ea4-a836-bb5e5ae688c0"
      },
      "execution_count": 11,
      "outputs": [
        {
          "output_type": "stream",
          "name": "stdout",
          "text": [
            "Original tuple: (5, 6, 7)\n"
          ]
        }
      ]
    },
    {
      "cell_type": "code",
      "source": [
        "try:\n",
        "    my_tuple[1] = 8\n",
        "except TypeError as e:\n",
        "    print(\"Error:\", e)"
      ],
      "metadata": {
        "colab": {
          "base_uri": "https://localhost:8080/"
        },
        "id": "vOdrTbae1Ee2",
        "outputId": "14326f7f-68b8-4b1f-856c-7f3980ec1155"
      },
      "execution_count": 12,
      "outputs": [
        {
          "output_type": "stream",
          "name": "stdout",
          "text": [
            "Error: 'tuple' object does not support item assignment\n"
          ]
        }
      ]
    },
    {
      "cell_type": "markdown",
      "source": [
        " 6 .  Write a function to demonstrate the behavior of mutable and immutable\n",
        "      arguments."
      ],
      "metadata": {
        "id": "JC3XuhvQ1KHM"
      }
    },
    {
      "cell_type": "code",
      "source": [
        "list_cont=[1,2,3,4.3,3.5j,\"ajay\"]\n",
        "list_cont[5]\n",
        "\n"
      ],
      "metadata": {
        "colab": {
          "base_uri": "https://localhost:8080/",
          "height": 35
        },
        "id": "I-mieFvf1O6V",
        "outputId": "c7fb62ab-fafd-4b0a-c685-c46462abee1b"
      },
      "execution_count": 13,
      "outputs": [
        {
          "output_type": "execute_result",
          "data": {
            "text/plain": [
              "'ajay'"
            ],
            "application/vnd.google.colaboratory.intrinsic+json": {
              "type": "string"
            }
          },
          "metadata": {},
          "execution_count": 13
        }
      ]
    },
    {
      "cell_type": "code",
      "source": [
        "list_cont=[1,2,3,4.3,3.5j,\"ajay\"]\n",
        "list_cont[5]\n",
        "list_cont[5]=\"bijay\"\n",
        "list_cont"
      ],
      "metadata": {
        "colab": {
          "base_uri": "https://localhost:8080/"
        },
        "id": "cZ3w-DCy1XIg",
        "outputId": "24f2d961-355d-4839-f4cd-bf98ba195136"
      },
      "execution_count": 14,
      "outputs": [
        {
          "output_type": "execute_result",
          "data": {
            "text/plain": [
              "[1, 2, 3, 4.3, 3.5j, 'bijay']"
            ]
          },
          "metadata": {},
          "execution_count": 14
        }
      ]
    },
    {
      "cell_type": "code",
      "source": [
        "b=\"pwskills\"\n",
        "b[0]\n",
        "b[0]=\"i\""
      ],
      "metadata": {
        "colab": {
          "base_uri": "https://localhost:8080/",
          "height": 176
        },
        "id": "H9nUTqdU1bBI",
        "outputId": "0b403c27-0c1b-433d-d9cb-3c3881e639d8"
      },
      "execution_count": 15,
      "outputs": [
        {
          "output_type": "error",
          "ename": "TypeError",
          "evalue": "'str' object does not support item assignment",
          "traceback": [
            "\u001b[0;31m---------------------------------------------------------------------------\u001b[0m",
            "\u001b[0;31mTypeError\u001b[0m                                 Traceback (most recent call last)",
            "\u001b[0;32m<ipython-input-15-9953888b3415>\u001b[0m in \u001b[0;36m<cell line: 0>\u001b[0;34m()\u001b[0m\n\u001b[1;32m      1\u001b[0m \u001b[0mb\u001b[0m\u001b[0;34m=\u001b[0m\u001b[0;34m\"pwskills\"\u001b[0m\u001b[0;34m\u001b[0m\u001b[0;34m\u001b[0m\u001b[0m\n\u001b[1;32m      2\u001b[0m \u001b[0mb\u001b[0m\u001b[0;34m[\u001b[0m\u001b[0;36m0\u001b[0m\u001b[0;34m]\u001b[0m\u001b[0;34m\u001b[0m\u001b[0;34m\u001b[0m\u001b[0m\n\u001b[0;32m----> 3\u001b[0;31m \u001b[0mb\u001b[0m\u001b[0;34m[\u001b[0m\u001b[0;36m0\u001b[0m\u001b[0;34m]\u001b[0m\u001b[0;34m=\u001b[0m\u001b[0;34m\"i\"\u001b[0m\u001b[0;34m\u001b[0m\u001b[0;34m\u001b[0m\u001b[0m\n\u001b[0m",
            "\u001b[0;31mTypeError\u001b[0m: 'str' object does not support item assignment"
          ]
        }
      ]
    },
    {
      "cell_type": "markdown",
      "source": [
        " 7 . Write a program that performs basic arithmetic operations on two           \n",
        "        -input numbers."
      ],
      "metadata": {
        "id": "XDEyOd9l1le3"
      }
    },
    {
      "cell_type": "code",
      "source": [
        "a=5\n",
        "b=6\n",
        "a+b"
      ],
      "metadata": {
        "colab": {
          "base_uri": "https://localhost:8080/"
        },
        "id": "doz76qDU1ufL",
        "outputId": "5efad624-9190-4c14-82fb-34357e56506b"
      },
      "execution_count": 16,
      "outputs": [
        {
          "output_type": "execute_result",
          "data": {
            "text/plain": [
              "11"
            ]
          },
          "metadata": {},
          "execution_count": 16
        }
      ]
    },
    {
      "cell_type": "code",
      "source": [
        "a*b"
      ],
      "metadata": {
        "colab": {
          "base_uri": "https://localhost:8080/"
        },
        "id": "IdpNoxvD146t",
        "outputId": "175b14b5-a73c-4874-ed6f-99368d5702a3"
      },
      "execution_count": 17,
      "outputs": [
        {
          "output_type": "execute_result",
          "data": {
            "text/plain": [
              "30"
            ]
          },
          "metadata": {},
          "execution_count": 17
        }
      ]
    },
    {
      "cell_type": "markdown",
      "source": [
        " 8 .  Write a program to demonstrate the use of logical operators."
      ],
      "metadata": {
        "id": "z4bjbk3e11NN"
      }
    },
    {
      "cell_type": "code",
      "source": [
        "a = 10\n",
        "b = 12\n",
        "c = 0\n",
        "if a and b and c:\n",
        "    print(\"All the numbers have boolean value as True\")\n",
        "else:\n",
        "    print(\"Atleast one number has boolean value as False\")"
      ],
      "metadata": {
        "colab": {
          "base_uri": "https://localhost:8080/"
        },
        "id": "8EqH2Gyz2UQL",
        "outputId": "f4b98e10-4ebc-4f3c-ea82-bbe98196b46f"
      },
      "execution_count": 18,
      "outputs": [
        {
          "output_type": "stream",
          "name": "stdout",
          "text": [
            "Atleast one number has boolean value as False\n"
          ]
        }
      ]
    },
    {
      "cell_type": "markdown",
      "source": [
        " 9 . Write a Python program to convert user input from string to integer,  \n",
        "              float, and boolean types."
      ],
      "metadata": {
        "id": "zhFoNNq22Z31"
      }
    },
    {
      "cell_type": "code",
      "source": [
        "a=\"2\"\n",
        "b=3\n",
        "type(a)\n",
        "int(a)+b\n",
        "print(type(a))\n",
        "print(type(int(a)))\n"
      ],
      "metadata": {
        "colab": {
          "base_uri": "https://localhost:8080/"
        },
        "id": "T4jqNqLq2lFA",
        "outputId": "2a3e0d2a-bf61-47cc-8f08-7b04f697bf4b"
      },
      "execution_count": 19,
      "outputs": [
        {
          "output_type": "stream",
          "name": "stdout",
          "text": [
            "<class 'str'>\n",
            "<class 'int'>\n"
          ]
        }
      ]
    },
    {
      "cell_type": "code",
      "source": [
        "a=3.4\n",
        "type (a)\n",
        "float\n",
        "int(a)"
      ],
      "metadata": {
        "colab": {
          "base_uri": "https://localhost:8080/"
        },
        "id": "lOXJcgOR2wqZ",
        "outputId": "58b679ca-24ba-4af5-cc89-e0eb9f862422"
      },
      "execution_count": 20,
      "outputs": [
        {
          "output_type": "execute_result",
          "data": {
            "text/plain": [
              "3"
            ]
          },
          "metadata": {},
          "execution_count": 20
        }
      ]
    },
    {
      "cell_type": "code",
      "source": [
        "10 & 10\n",
        "bin(10)"
      ],
      "metadata": {
        "colab": {
          "base_uri": "https://localhost:8080/",
          "height": 35
        },
        "id": "zV_V73Wr29a4",
        "outputId": "70cfe600-10c7-4b35-9185-903f48251859"
      },
      "execution_count": 21,
      "outputs": [
        {
          "output_type": "execute_result",
          "data": {
            "text/plain": [
              "'0b1010'"
            ],
            "application/vnd.google.colaboratory.intrinsic+json": {
              "type": "string"
            }
          },
          "metadata": {},
          "execution_count": 21
        }
      ]
    },
    {
      "cell_type": "markdown",
      "source": [
        " 10 . Write code to demonstrate type casting with list elements."
      ],
      "metadata": {
        "id": "Tv_XHkbl2_3W"
      }
    },
    {
      "cell_type": "code",
      "source": [
        "num_int = 123\n",
        "num_float = 1.23\n",
        "num_new = num_int + num_float\n",
        "print(\"Data type of num_int:\", type(num_int))\n",
        "print(\"Data type of num_float:\", type(num_float))\n",
        "print(\"Value of num_new:\",num_new)\n",
        "print(\"Data type of num_new:\", type(num_new))"
      ],
      "metadata": {
        "colab": {
          "base_uri": "https://localhost:8080/"
        },
        "id": "e0CYQkIW3G0q",
        "outputId": "9cf509a5-615b-48be-c3ef-262982381b67"
      },
      "execution_count": 22,
      "outputs": [
        {
          "output_type": "stream",
          "name": "stdout",
          "text": [
            "Data type of num_int: <class 'int'>\n",
            "Data type of num_float: <class 'float'>\n",
            "Value of num_new: 124.23\n",
            "Data type of num_new: <class 'float'>\n"
          ]
        }
      ]
    },
    {
      "cell_type": "code",
      "source": [
        "num_str = \"45\"\n",
        "num_int = int(num_str)\n",
        "num_float = float(num_str)\n",
        "print(\"Data type of num_str:\", type(num_str))\n",
        "print(\"Value of num_int:\",num_int)\n",
        "print(\"Data type of num_int:\", type(num_int))\n",
        "print(\"Value of num_float:\",num_float)\n",
        "print(\"Data type of num_float:\", type(num_float))"
      ],
      "metadata": {
        "colab": {
          "base_uri": "https://localhost:8080/"
        },
        "id": "O2jjmZdY3Mm1",
        "outputId": "d5ec9d4a-e518-4035-c023-2edd2a335365"
      },
      "execution_count": 23,
      "outputs": [
        {
          "output_type": "stream",
          "name": "stdout",
          "text": [
            "Data type of num_str: <class 'str'>\n",
            "Value of num_int: 45\n",
            "Data type of num_int: <class 'int'>\n",
            "Value of num_float: 45.0\n",
            "Data type of num_float: <class 'float'>\n"
          ]
        }
      ]
    },
    {
      "cell_type": "markdown",
      "source": [
        " 11 . Write a program that checks if a number is positive, negative, or zero."
      ],
      "metadata": {
        "id": "FI4bCl533XDm"
      }
    },
    {
      "cell_type": "code",
      "source": [
        "num = float(input(\"Enter a number: \"))\n",
        "if num > 0:\n",
        "   print(\"Positive number\")\n",
        "elif num == 0:\n",
        "   print(\"Zero\")\n",
        "else:\n",
        "   print(\"Negative number\")"
      ],
      "metadata": {
        "colab": {
          "base_uri": "https://localhost:8080/"
        },
        "id": "0WDsEN1C3aND",
        "outputId": "96c8357c-4807-4766-ad93-1b30daabed80"
      },
      "execution_count": 24,
      "outputs": [
        {
          "output_type": "stream",
          "name": "stdout",
          "text": [
            "Enter a number: -7\n",
            "Negative number\n"
          ]
        }
      ]
    },
    {
      "cell_type": "markdown",
      "source": [
        " 12 .  Write a for loop to print numbers from 1 to 10."
      ],
      "metadata": {
        "id": "jHTeOBzE3jBW"
      }
    },
    {
      "cell_type": "code",
      "source": [
        "for i in range(1, 11):\n",
        "    print(i)"
      ],
      "metadata": {
        "colab": {
          "base_uri": "https://localhost:8080/"
        },
        "id": "Mz41-r0331JS",
        "outputId": "db1d8425-a434-4997-bb56-a1a260bd646d"
      },
      "execution_count": 25,
      "outputs": [
        {
          "output_type": "stream",
          "name": "stdout",
          "text": [
            "1\n",
            "2\n",
            "3\n",
            "4\n",
            "5\n",
            "6\n",
            "7\n",
            "8\n",
            "9\n",
            "10\n"
          ]
        }
      ]
    },
    {
      "cell_type": "markdown",
      "source": [
        " 13 . Write a Python program to find the sum of all even numbers between 1 and 50."
      ],
      "metadata": {
        "id": "YOahXgfW36Hq"
      }
    },
    {
      "cell_type": "code",
      "source": [
        "num = int(input('Enter a number: '))\n",
        "sum = 0\n",
        "i = 0\n",
        "while i <= num:\n",
        "    if i % 2 == 0:\n",
        "        print(i)\n",
        "        sum+=i\n",
        "    i+=1\n",
        "print(f\"Sum of all the even numbers is {sum}\")"
      ],
      "metadata": {
        "colab": {
          "base_uri": "https://localhost:8080/"
        },
        "id": "DUlMnUP34A-A",
        "outputId": "4accf061-f628-461c-9365-712ed09c6638"
      },
      "execution_count": 26,
      "outputs": [
        {
          "output_type": "stream",
          "name": "stdout",
          "text": [
            "Enter a number: 50\n",
            "0\n",
            "2\n",
            "4\n",
            "6\n",
            "8\n",
            "10\n",
            "12\n",
            "14\n",
            "16\n",
            "18\n",
            "20\n",
            "22\n",
            "24\n",
            "26\n",
            "28\n",
            "30\n",
            "32\n",
            "34\n",
            "36\n",
            "38\n",
            "40\n",
            "42\n",
            "44\n",
            "46\n",
            "48\n",
            "50\n",
            "Sum of all the even numbers is 650\n"
          ]
        }
      ]
    },
    {
      "cell_type": "markdown",
      "source": [
        " 14. Write a program to reverse a string using a while loop."
      ],
      "metadata": {
        "id": "rfgoT5La4LcA"
      }
    },
    {
      "cell_type": "code",
      "source": [
        "def reverse_string(s):\n",
        "    reversed_s = \"\"\n",
        "    length = len(s) - 1\n",
        "    while length >= 0:\n",
        "        reversed_s += s[length]\n",
        "        length -= 1\n",
        "    return reversed_s\n",
        "\n",
        "input_string = \"Hello, World!\"\n",
        "reversed_string = reverse_string(input_string)\n",
        "print(f\"Original string: {input_string}\")\n",
        "print(f\"Reversed string: {reversed_string}\")"
      ],
      "metadata": {
        "colab": {
          "base_uri": "https://localhost:8080/"
        },
        "id": "eRkI3eI84X0c",
        "outputId": "4baf3c7c-a15d-4ad0-f365-9b5ac9303115"
      },
      "execution_count": 27,
      "outputs": [
        {
          "output_type": "stream",
          "name": "stdout",
          "text": [
            "Original string: Hello, World!\n",
            "Reversed string: !dlroW ,olleH\n"
          ]
        }
      ]
    },
    {
      "cell_type": "markdown",
      "source": [
        " 15 . Write a Python program to calculate the factorial of a number provided by the user using a while loop."
      ],
      "metadata": {
        "id": "oCiiSRSq4kIj"
      }
    },
    {
      "cell_type": "code",
      "source": [
        "def factorial_while_loop(number):\n",
        "    \"\"\"\n",
        "    Calculate the factorial of a number using a while loop.\n",
        "    \"\"\"\n",
        "    if number < 0:\n",
        "        return \"Factorial is not defined for negative numbers\"\n",
        "    elif number == 0:\n",
        "        return 1\n",
        "    else:\n",
        "        factorial = 1\n",
        "        while number > 0:\n",
        "            factorial *= number\n",
        "            number -= 1\n",
        "        return factorial\n",
        "\n",
        "# Get input from the user\n",
        "num = int(input(\"Enter a non-negative integer: \"))\n",
        "\n",
        "# Calculate and print the factorial\n",
        "result = factorial_while_loop(num)\n",
        "print(f\"The factorial of {num} is {result}\")\n"
      ],
      "metadata": {
        "colab": {
          "base_uri": "https://localhost:8080/"
        },
        "id": "aD8EYaVS4nPQ",
        "outputId": "9d6c0421-ecc6-4403-87dc-fe5d7c0f0422"
      },
      "execution_count": 28,
      "outputs": [
        {
          "output_type": "stream",
          "name": "stdout",
          "text": [
            "Enter a non-negative integer: 7\n",
            "The factorial of 7 is 5040\n"
          ]
        }
      ]
    }
  ]
}